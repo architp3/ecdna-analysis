{
 "cells": [
  {
   "cell_type": "markdown",
   "metadata": {},
   "source": [
    "## Extract and Prep Data"
   ]
  },
  {
   "cell_type": "code",
   "execution_count": 1,
   "metadata": {},
   "outputs": [],
   "source": [
    "from PIL import Image\n",
    "import zipfile\n",
    "\n",
    "import base64\n",
    "import os\n",
    "import requests\n",
    "\n",
    "from mistralai import Mistral"
   ]
  },
  {
   "cell_type": "code",
   "execution_count": 2,
   "metadata": {},
   "outputs": [],
   "source": [
    "# Helper function\n",
    "def convert_tiff_to_png(tiff_path, png_path):\n",
    "    with Image.open(tiff_path) as img:\n",
    "        img.save(png_path, 'PNG')"
   ]
  },
  {
   "cell_type": "code",
   "execution_count": null,
   "metadata": {},
   "outputs": [],
   "source": [
    "zip_file_path = 'data/ecSeg_dataset.zip'\n",
    "\n",
    "# Folder inside the ZIP file that contains the images\n",
    "folder_name = 'test_im/'\n",
    "\n",
    "# Folder to extract converted images\n",
    "extract_folder = 'data/jpgs/'\n",
    "\n",
    "# Open the ZIP file\n",
    "with zipfile.ZipFile(zip_file_path, 'r') as zip_ref:\n",
    "    all_files = zip_ref.namelist()\n",
    "    \n",
    "    # Filter image files from the specified folder\n",
    "    image_files = [f for f in all_files if f.find(folder_name) != -1]\n",
    "    \n",
    "    for image_file in image_files:\n",
    "        # Extract the file to the extraction folder\n",
    "        zip_ref.extract(image_file, extract_folder)\n",
    "        \n",
    "        # Check if the file is a TIFF image (ends with .tif)\n",
    "        if image_file.lower().endswith('.tif'):\n",
    "            # Construct the local path for the TIFF file and the destination PNG path\n",
    "            extracted_tiff_path = os.path.join(extract_folder, image_file)\n",
    "            png_path = os.path.join(extract_folder, f\"{os.path.splitext(image_file)[0]}.jpg\")\n",
    "            \n",
    "            # Convert the TIFF to PNG\n",
    "            convert_tiff_to_png(extracted_tiff_path, png_path)\n",
    "            \n",
    "            # Optionally, remove the original TIFF file after conversion\n",
    "            os.remove(extracted_tiff_path)\n",
    "            print(f\"Converted {image_file} to PNG.\")\n",
    "\n",
    "    print(f\"Images extracted and converted to PNG in: {extract_folder}\")\n",
    "    \n",
    "zip_ref.close()"
   ]
  },
  {
   "cell_type": "markdown",
   "metadata": {},
   "source": [
    "## Demo Run\n",
    "\n",
    "We will be prompting the `Pixtral-12b` model with the following metaphase image of a cell:\n",
    "\n",
    "![alt text](data/converted/19.jpg \"Metaphase Image of Cell\")\n",
    "\n",
    "And the following prompt:\n",
    "\n",
    "\"For this task, act as a bioligist who is studying extrachromosomal DNA (ecDNA). Consider this metaphase image containing ecDNA. Analyze it for possible ecDNA.\""
   ]
  },
  {
   "cell_type": "code",
   "execution_count": 3,
   "metadata": {},
   "outputs": [],
   "source": [
    "def encode_image(image_path):\n",
    "    \"\"\"Encode the image to base64.\"\"\"\n",
    "    try:\n",
    "        with open(image_path, \"rb\") as image_file:\n",
    "            return base64.b64encode(image_file.read()).decode('utf-8')\n",
    "    except FileNotFoundError:\n",
    "        print(f\"Error: The file {image_path} was not found.\")\n",
    "        return None\n",
    "    except Exception as e:  # Added general exception handling\n",
    "        print(f\"Error: {e}\")\n",
    "        return None"
   ]
  },
  {
   "cell_type": "markdown",
   "metadata": {},
   "source": [
    "### Setup Model"
   ]
  },
  {
   "cell_type": "code",
   "execution_count": 4,
   "metadata": {},
   "outputs": [],
   "source": [
    "# Specify model\n",
    "model = \"pixtral-large-latest\"\n",
    "\n",
    "# Path to your image\n",
    "image_path = \"data/converted/19.jpg\"\n",
    "\n",
    "# Getting the base64 string\n",
    "base64_image = encode_image(image_path)\n",
    "\n",
    "client = Mistral(api_key=api_key)"
   ]
  },
  {
   "cell_type": "markdown",
   "metadata": {},
   "source": [
    "### Analyze metaphase images"
   ]
  },
  {
   "cell_type": "code",
   "execution_count": 5,
   "metadata": {},
   "outputs": [
    {
     "name": "stdout",
     "output_type": "stream",
     "text": [
      "To analyze this metaphase image for possible extrachromosomal DNA (ecDNA), we need to carefully examine the chromosomal structure and look for any anomalies that might suggest the presence of ecDNA. Here are the steps you can follow:\n",
      "\n",
      "1. **Identify the Chromosomes**: The image shows chromosomes stained in blue with some scattered red spots. These chromosomes are likely stained with DAPI (blue) to highlight the DNA, and the red spots might indicate specific markers or probes associated with ecDNA.\n",
      "\n",
      "2. **Look for ecDNA Indicators**:\n",
      "    - **Size and Shape**: ecDNA molecules are typically smaller and more circular compared to the linear structure of chromosomes.\n",
      "    - **Location**: ecDNA can be found outside the main chromosomal bodies and may appear as distinct, smaller spots.\n",
      "    - **Staining Intensity**: ecDNA may show different staining intensity compared to chromosomal DNA, especially if specific probes are used to label them.\n",
      "\n",
      "3. **Analyze the Red Spots**:\n",
      "    - The red spots in the image could be indicative of ecDNA if they are distinct and separate from the blue-stained chromosomes.\n",
      "    - Check if these red spots are isolated and not part of the chromosomal structure.\n",
      "\n",
      "4. **Quantification**:\n",
      "    - Count the number of red spots and compare it to the number of chromosomes.\n",
      "    - Determine if the red spots are consistently present in multiple metaphase images.\n",
      "\n",
      "From the image provided, it seems there are several red spots that are distinct from the blue-stained chromosomes. These could potentially be ecDNA molecules. To confirm, you would need to:\n",
      "\n",
      "- **Use Specific Probes**: Employ probes that specifically bind to ecDNA sequences to verify their presence.\n",
      "- **Compare with Controls**: Compare this image with control images that do not contain ecDNA to ensure the red spots are not artifacts.\n",
      "- **Replicate Experiments**: Repeat the experiment multiple times to ensure consistency and reliability of the findings.\n",
      "\n",
      "Given the visual data, it appears likely that the red spots represent ecDNA, but further molecular techniques and controls are necessary to confirm this hypothesis.\n"
     ]
    }
   ],
   "source": [
    "# Define the messages for the chat\n",
    "messages = [\n",
    "    {\n",
    "        \"role\": \"user\",\n",
    "        \"content\": [\n",
    "            {\n",
    "                \"type\": \"text\",\n",
    "                \"text\": \"For this task, act as a bioligist who is studying extrachromosomal DNA (ecDNA). Consider this metaphase image containing ecDNA. Analyze it for possible ecDNA.\"\n",
    "            },\n",
    "            {\n",
    "                \"type\": \"image_url\",\n",
    "                \"image_url\": f\"data:image/jpeg;base64,{base64_image}\" \n",
    "            }\n",
    "        ]\n",
    "    }\n",
    "]\n",
    "\n",
    "# Get the chat response\n",
    "chat_response = client.chat.complete(\n",
    "    model=model,\n",
    "    messages=messages\n",
    ")\n",
    "\n",
    "# Print the content of the response\n",
    "print(chat_response.choices[0].message.content)"
   ]
  },
  {
   "cell_type": "markdown",
   "metadata": {},
   "source": [
    "### Count number of chromosomes"
   ]
  },
  {
   "cell_type": "code",
   "execution_count": 5,
   "metadata": {},
   "outputs": [
    {
     "name": "stdout",
     "output_type": "stream",
     "text": [
      "To count the number of chromosomes in this metaphase image, we need to carefully identify the individual chromosomes which appear as blue-stained structures. The image also contains ecDNA, which is marked in red, and potentially other elements marked in green.\n",
      "\n",
      "Here’s how to proceed:\n",
      "\n",
      "1. **Identify Chromosomes**: Look for the blue-stained structures that are distinct and separate from each other. These are the chromosomes.\n",
      "2. **Exclude Non-Chromosomal Elements**: Ensure that red-stained ecDNA and green-stained elements are not counted as chromosomes.\n",
      "\n",
      "Based on the image:\n",
      "\n",
      "- There are 11 distinct blue-stained structures that can be identified as chromosomes. \n",
      "\n",
      "So, the total number of chromosomes present in the image is **11**.\n"
     ]
    }
   ],
   "source": [
    "# Path to your image\n",
    "image_path = \"data/converted/2314.jpg\"\n",
    "\n",
    "# Getting the base64 string\n",
    "base64_image = encode_image(image_path)\n",
    "\n",
    "# Define the messages for the chat\n",
    "messages = [\n",
    "    {\n",
    "        \"role\": \"user\",\n",
    "        \"content\": [\n",
    "            {\n",
    "                \"type\": \"text\",\n",
    "                \"text\": \"For this task, act as a bioligist who is studying extrachromosomal DNA (ecDNA). Consider this metaphase image containing ecDNA. Count how many chromosomes are present in the image.\"\n",
    "            },\n",
    "            {\n",
    "                \"type\": \"image_url\",\n",
    "                \"image_url\": f\"data:image/jpeg;base64,{base64_image}\" \n",
    "            }\n",
    "        ]\n",
    "    }\n",
    "]\n",
    "\n",
    "# Get the chat response\n",
    "chat_response = client.chat.complete(\n",
    "    model=model,\n",
    "    messages=messages\n",
    ")\n",
    "\n",
    "# Print the content of the response\n",
    "print(chat_response.choices[0].message.content)"
   ]
  },
  {
   "cell_type": "code",
   "execution_count": 6,
   "metadata": {},
   "outputs": [
    {
     "name": "stdout",
     "output_type": "stream",
     "text": [
      "As a biologist studying extrachromosomal DNA (ecDNA), I can examine the image and observe that there are several nuclei present. To count them, I will look for the distinct blue-stained regions, which typically represent the nuclei of the cells.\n",
      "\n",
      "Upon careful examination of the image, I can see four distinct blue-stained regions, each representing a nucleus. Therefore, there are four nuclei present in the image.\n"
     ]
    }
   ],
   "source": [
    "# Path to your image\n",
    "image_path = \"data/converted/19.jpg\"\n",
    "\n",
    "# Getting the base64 string\n",
    "base64_image = encode_image(image_path)\n",
    "\n",
    "# Define the messages for the chat\n",
    "messages = [\n",
    "    {\n",
    "        \"role\": \"user\",\n",
    "        \"content\": [\n",
    "            {\n",
    "                \"type\": \"text\",\n",
    "                \"text\": \"For this task, act as a bioligist who is studying extrachromosomal DNA (ecDNA). Consider this metaphase image containing ecDNA. Count how many nuclei are present in the image.\"\n",
    "            },\n",
    "            {\n",
    "                \"type\": \"image_url\",\n",
    "                \"image_url\": f\"data:image/jpeg;base64,{base64_image}\" \n",
    "            }\n",
    "        ]\n",
    "    }\n",
    "]\n",
    "\n",
    "# Get the chat response\n",
    "chat_response = client.chat.complete(\n",
    "    model=model,\n",
    "    messages=messages\n",
    ")\n",
    "\n",
    "# Print the content of the response\n",
    "print(chat_response.choices[0].message.content)"
   ]
  },
  {
   "cell_type": "code",
   "execution_count": 7,
   "metadata": {},
   "outputs": [],
   "source": [
    "# Save output\n",
    "with open(\"output.txt\", \"w\") as file:\n",
    "    file.write(chat_response.choices[0].message.content)"
   ]
  },
  {
   "cell_type": "markdown",
   "metadata": {},
   "source": [
    "## Conclusions\n",
    "As we can see from the above input, the Pixtral-12b model is able to provide a quite detailed and somewhat coherent explanation of the image. It is able to reason why certain parts of the image are colored the way they are such as discussing relevant methods used to stain DNA."
   ]
  }
 ],
 "metadata": {
  "kernelspec": {
   "display_name": "Python 3 (ipykernel)",
   "language": "python",
   "name": "python3"
  },
  "language_info": {
   "codemirror_mode": {
    "name": "ipython",
    "version": 3
   },
   "file_extension": ".py",
   "mimetype": "text/x-python",
   "name": "python",
   "nbconvert_exporter": "python",
   "pygments_lexer": "ipython3",
   "version": "3.11.9"
  }
 },
 "nbformat": 4,
 "nbformat_minor": 4
}
