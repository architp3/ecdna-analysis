{
 "cells": [
  {
   "cell_type": "markdown",
   "metadata": {},
   "source": [
    "## Extract and Prep Data"
   ]
  },
  {
   "cell_type": "code",
   "execution_count": 1,
   "metadata": {},
   "outputs": [],
   "source": [
    "from PIL import Image\n",
    "import zipfile\n",
    "\n",
    "import base64\n",
    "import os\n",
    "import requests\n",
    "\n",
    "from mistralai import Mistral"
   ]
  },
  {
   "cell_type": "code",
   "execution_count": 2,
   "metadata": {},
   "outputs": [],
   "source": [
    "# Helper function\n",
    "def convert_tiff_to_png(tiff_path, png_path):\n",
    "    with Image.open(tiff_path) as img:\n",
    "        img.save(png_path, 'PNG')"
   ]
  },
  {
   "cell_type": "code",
   "execution_count": null,
   "metadata": {},
   "outputs": [],
   "source": [
    "zip_file_path = 'data/ecSeg_dataset.zip'\n",
    "\n",
    "# Folder inside the ZIP file that contains the images\n",
    "folder_name = 'test_im/'\n",
    "\n",
    "# Folder to extract converted images\n",
    "extract_folder = 'data/jpgs/'\n",
    "\n",
    "# Open the ZIP file\n",
    "with zipfile.ZipFile(zip_file_path, 'r') as zip_ref:\n",
    "    all_files = zip_ref.namelist()\n",
    "    \n",
    "    # Filter image files from the specified folder\n",
    "    image_files = [f for f in all_files if f.find(folder_name) != -1]\n",
    "    \n",
    "    for image_file in image_files:\n",
    "        # Extract the file to the extraction folder\n",
    "        zip_ref.extract(image_file, extract_folder)\n",
    "        \n",
    "        # Check if the file is a TIFF image (ends with .tif)\n",
    "        if image_file.lower().endswith('.tif'):\n",
    "            # Construct the local path for the TIFF file and the destination PNG path\n",
    "            extracted_tiff_path = os.path.join(extract_folder, image_file)\n",
    "            png_path = os.path.join(extract_folder, f\"{os.path.splitext(image_file)[0]}.jpg\")\n",
    "            \n",
    "            # Convert the TIFF to PNG\n",
    "            convert_tiff_to_png(extracted_tiff_path, png_path)\n",
    "            \n",
    "            # Optionally, remove the original TIFF file after conversion\n",
    "            os.remove(extracted_tiff_path)\n",
    "            print(f\"Converted {image_file} to PNG.\")\n",
    "\n",
    "    print(f\"Images extracted and converted to PNG in: {extract_folder}\")\n",
    "    \n",
    "zip_ref.close()"
   ]
  },
  {
   "cell_type": "markdown",
   "metadata": {},
   "source": [
    "## Demo Run\n",
    "\n",
    "We will be prompting the `Pixtral-12b` model with the following metaphase image of a cell:\n",
    "\n",
    "![alt text](data/converted/19.jpg \"Metaphase Image of Cell\")\n",
    "\n",
    "And the following prompt:\n",
    "\n",
    "\"For this task, act as a bioligist who is studying extrachromosomal DNA (ecDNA). Consider this metaphase image containing ecDNA. Analyze it for possible ecDNA.\""
   ]
  },
  {
   "cell_type": "code",
   "execution_count": 3,
   "metadata": {},
   "outputs": [],
   "source": [
    "def encode_image(image_path):\n",
    "    \"\"\"Encode the image to base64.\"\"\"\n",
    "    try:\n",
    "        with open(image_path, \"rb\") as image_file:\n",
    "            return base64.b64encode(image_file.read()).decode('utf-8')\n",
    "    except FileNotFoundError:\n",
    "        print(f\"Error: The file {image_path} was not found.\")\n",
    "        return None\n",
    "    except Exception as e:  # Added general exception handling\n",
    "        print(f\"Error: {e}\")\n",
    "        return None"
   ]
  },
  {
   "cell_type": "code",
   "execution_count": null,
   "metadata": {},
   "outputs": [
    {
     "name": "stdout",
     "output_type": "stream",
     "text": [
      "To analyze this metaphase image for possible extrachromosomal DNA (ecDNA), we need to focus on the structures that do not appear to be part of the regular chromosomes. Here are the steps involved in identifying potential ecDNA:\n",
      "\n",
      "1. **Identify Chromosomal DNA**: The chromosomal DNA in this image is stained blue, which is characteristic of DAPI (4',6-diamidino-2-phenylindole) staining, a common method used to stain DNA in cells.\n",
      "\n",
      "2. **Observe Structures Outside the Chromosomes**: ecDNA typically appears as small circular or irregularly shaped structures that are separate from the main chromosomes. Look for areas of blue staining that are distinct from the larger, more condensed chromosomes.\n",
      "\n",
      "3. **Consider Additional Stains**: If the image includes other stains (e.g., red staining that might indicate specific proteins or DNA sequences associated with ecDNA), these can help confirm the presence of ecDNA. In this image, there are some red spots, which might indicate regions of ecDNA if they are separate from the chromosomes.\n",
      "\n",
      "4. **Check for Size and Shape**: ecDNA is generally smaller and more circular or irregularly shaped compared to chromosomal DNA.\n",
      "\n",
      "5. **Count and Document**: Make note of any potential ecDNA structures, their numbers, and their locations relative to the chromosomes. This information can be used for further analysis.\n",
      "\n",
      "Based on the image provided:\n",
      "\n",
      "- The blue-stained areas likely represent the chromosomal DNA.\n",
      "- The red spots could be ecDNA, especially if they appear separate from the main chromosomal structures.\n",
      "\n",
      "**Analysis**:\n",
      "- There are multiple red spots in the image that are distinct from the blue-stained chromosomal DNA. These red spots could potentially represent ecDNA or other cellular components stained with a different dye.\n",
      "- The red spots are small and appear to be isolated from the larger chromosomal structures, which is consistent with the characteristics of ecDNA.\n",
      "\n",
      "**Conclusion**:\n",
      "The red spots in this metaphase image are likely candidates for ecDNA, given their distinct appearance and separation from the main chromosomal DNA. Further confirmation would typically require additional experimental techniques, such as fluorescence in situ hybridization (FISH) or sequencing, to definitively identify these structures as ecDNA.\n"
     ]
    }
   ],
   "source": [
    "api_key = \"jPj7kLzhpj8aicxtA9cpyDg1uP50zvtW\"\n",
    "\n",
    "# Specify model\n",
    "model = \"pixtral-large-latest\"\n",
    "\n",
    "# Path to your image\n",
    "image_path = \"data/converted/19.jpg\"\n",
    "\n",
    "# Getting the base64 string\n",
    "base64_image = encode_image(image_path)\n",
    "\n",
    "client = Mistral(api_key=api_key)\n",
    "\n",
    "# Define the messages for the chat\n",
    "messages = [\n",
    "    {\n",
    "        \"role\": \"user\",\n",
    "        \"content\": [\n",
    "            {\n",
    "                \"type\": \"text\",\n",
    "                \"text\": \"For this task, act as a bioligist who is studying extrachromosomal DNA (ecDNA). Consider this metaphase image containing ecDNA. Analyze it for possible ecDNA.\"\n",
    "            },\n",
    "            {\n",
    "                \"type\": \"image_url\",\n",
    "                \"image_url\": f\"data:image/jpeg;base64,{base64_image}\" \n",
    "            }\n",
    "        ]\n",
    "    }\n",
    "]\n",
    "\n",
    "# Get the chat response\n",
    "chat_response = client.chat.complete(\n",
    "    model=model,\n",
    "    messages=messages\n",
    ")\n",
    "\n",
    "# Print the content of the response\n",
    "print(chat_response.choices[0].message.content)"
   ]
  },
  {
   "cell_type": "code",
   "execution_count": 7,
   "metadata": {},
   "outputs": [],
   "source": [
    "# Save output\n",
    "with open(\"output.txt\", \"w\") as file:\n",
    "    file.write(chat_response.choices[0].message.content)"
   ]
  },
  {
   "cell_type": "markdown",
   "metadata": {},
   "source": [
    "## Conclusions\n",
    "As we can see from the above input, the Pixtral-12b model is able to provide a quite detailed and somewhat coherent explanation of the image. It is able to reason why certain parts of the image are colored the way they are such as discussing relevant methods used to stain DNA."
   ]
  }
 ],
 "metadata": {
  "kernelspec": {
   "display_name": "Python 3",
   "language": "python",
   "name": "python3"
  },
  "language_info": {
   "codemirror_mode": {
    "name": "ipython",
    "version": 3
   },
   "file_extension": ".py",
   "mimetype": "text/x-python",
   "name": "python",
   "nbconvert_exporter": "python",
   "pygments_lexer": "ipython3",
   "version": "3.10.2"
  }
 },
 "nbformat": 4,
 "nbformat_minor": 2
}
