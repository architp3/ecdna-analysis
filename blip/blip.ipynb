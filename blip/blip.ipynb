{
 "cells": [
  {
   "cell_type": "code",
   "execution_count": 40,
   "metadata": {},
   "outputs": [],
   "source": [
    "from PIL import Image\n",
    "import requests\n",
    "from transformers import BlipProcessor, BlipForConditionalGeneration \n",
    "import gradio as gr\n",
    "import zipfile\n",
    "import os"
   ]
  },
  {
   "cell_type": "code",
   "execution_count": 41,
   "metadata": {},
   "outputs": [
    {
     "data": {
      "text/plain": [
       "'C:\\\\Users\\\\archi\\\\ecdna-analysis\\\\data\\\\ecSeg_dataset.zip'"
      ]
     },
     "execution_count": 41,
     "metadata": {},
     "output_type": "execute_result"
    }
   ],
   "source": [
    "# Zipfile path containing data\n",
    "zipfile_path = os.path.expanduser(\"~\") + '\\\\ecdna-analysis\\\\data\\\\ecSeg_dataset.zip'\n",
    "zipfile_path"
   ]
  },
  {
   "cell_type": "code",
   "execution_count": 42,
   "metadata": {},
   "outputs": [],
   "source": [
    "def convert_tiff_to_png(tiff_path, png_path):\n",
    "    with Image.open(tiff_path) as img:\n",
    "        img.save(png_path, 'PNG')"
   ]
  },
  {
   "cell_type": "code",
   "execution_count": null,
   "metadata": {},
   "outputs": [
    {
     "name": "stdout",
     "output_type": "stream",
     "text": [
      "Converted ecSeg_dataset/test_im/0.tif to PNG.\n",
      "Converted ecSeg_dataset/test_im/1.tif to PNG.\n",
      "Converted ecSeg_dataset/test_im/10.tif to PNG.\n",
      "Converted ecSeg_dataset/test_im/1000.tif to PNG.\n",
      "Converted ecSeg_dataset/test_im/1001.tif to PNG.\n",
      "Converted ecSeg_dataset/test_im/1004.tif to PNG.\n",
      "Converted ecSeg_dataset/test_im/1006.tif to PNG.\n",
      "Converted ecSeg_dataset/test_im/1008.tif to PNG.\n",
      "Converted ecSeg_dataset/test_im/1009.tif to PNG.\n",
      "Converted ecSeg_dataset/test_im/1013.tif to PNG.\n",
      "Converted ecSeg_dataset/test_im/102.tif to PNG.\n",
      "Converted ecSeg_dataset/test_im/1025.tif to PNG.\n",
      "Converted ecSeg_dataset/test_im/1026.tif to PNG.\n",
      "Converted ecSeg_dataset/test_im/1028.tif to PNG.\n",
      "Converted ecSeg_dataset/test_im/1029.tif to PNG.\n",
      "Converted ecSeg_dataset/test_im/103.tif to PNG.\n",
      "Converted ecSeg_dataset/test_im/1030.tif to PNG.\n",
      "Converted ecSeg_dataset/test_im/1031.tif to PNG.\n",
      "Converted ecSeg_dataset/test_im/1033.tif to PNG.\n",
      "Converted ecSeg_dataset/test_im/1034.tif to PNG.\n",
      "Converted ecSeg_dataset/test_im/1042.tif to PNG.\n",
      "Converted ecSeg_dataset/test_im/1043.tif to PNG.\n",
      "Converted ecSeg_dataset/test_im/1045.tif to PNG.\n",
      "Converted ecSeg_dataset/test_im/1047.tif to PNG.\n",
      "Converted ecSeg_dataset/test_im/1049.tif to PNG.\n",
      "Converted ecSeg_dataset/test_im/1050.tif to PNG.\n",
      "Converted ecSeg_dataset/test_im/1051.tif to PNG.\n",
      "Converted ecSeg_dataset/test_im/1053.tif to PNG.\n",
      "Converted ecSeg_dataset/test_im/1054.tif to PNG.\n",
      "Converted ecSeg_dataset/test_im/1055.tif to PNG.\n",
      "Converted ecSeg_dataset/test_im/1057.tif to PNG.\n",
      "Converted ecSeg_dataset/test_im/1058.tif to PNG.\n",
      "Converted ecSeg_dataset/test_im/1059.tif to PNG.\n",
      "Converted ecSeg_dataset/test_im/1069.tif to PNG.\n",
      "Converted ecSeg_dataset/test_im/107.tif to PNG.\n",
      "Converted ecSeg_dataset/test_im/1070.tif to PNG.\n",
      "Converted ecSeg_dataset/test_im/1073.tif to PNG.\n",
      "Converted ecSeg_dataset/test_im/1074.tif to PNG.\n",
      "Converted ecSeg_dataset/test_im/108.tif to PNG.\n",
      "Converted ecSeg_dataset/test_im/1086.tif to PNG.\n",
      "Converted ecSeg_dataset/test_im/1088.tif to PNG.\n",
      "Converted ecSeg_dataset/test_im/1089.tif to PNG.\n",
      "Converted ecSeg_dataset/test_im/109.tif to PNG.\n",
      "Converted ecSeg_dataset/test_im/1090.tif to PNG.\n",
      "Converted ecSeg_dataset/test_im/1092.tif to PNG.\n",
      "Converted ecSeg_dataset/test_im/1093.tif to PNG.\n",
      "Converted ecSeg_dataset/test_im/1094.tif to PNG.\n",
      "Converted ecSeg_dataset/test_im/11.tif to PNG.\n",
      "Converted ecSeg_dataset/test_im/110.tif to PNG.\n",
      "Converted ecSeg_dataset/test_im/1100.tif to PNG.\n",
      "Converted ecSeg_dataset/test_im/1101.tif to PNG.\n",
      "Converted ecSeg_dataset/test_im/1102.tif to PNG.\n",
      "Converted ecSeg_dataset/test_im/1103.tif to PNG.\n",
      "Converted ecSeg_dataset/test_im/1105.tif to PNG.\n",
      "Converted ecSeg_dataset/test_im/1106.tif to PNG.\n",
      "Converted ecSeg_dataset/test_im/1109.tif to PNG.\n",
      "Converted ecSeg_dataset/test_im/111.tif to PNG.\n",
      "Converted ecSeg_dataset/test_im/1110.tif to PNG.\n",
      "Converted ecSeg_dataset/test_im/1111.tif to PNG.\n",
      "Converted ecSeg_dataset/test_im/1113.tif to PNG.\n",
      "Converted ecSeg_dataset/test_im/1114.tif to PNG.\n",
      "Converted ecSeg_dataset/test_im/1115.tif to PNG.\n",
      "Converted ecSeg_dataset/test_im/1116.tif to PNG.\n",
      "Converted ecSeg_dataset/test_im/1117.tif to PNG.\n",
      "Converted ecSeg_dataset/test_im/112.tif to PNG.\n",
      "Converted ecSeg_dataset/test_im/1125.tif to PNG.\n",
      "Converted ecSeg_dataset/test_im/1129.tif to PNG.\n",
      "Converted ecSeg_dataset/test_im/113.tif to PNG.\n",
      "Converted ecSeg_dataset/test_im/1130.tif to PNG.\n",
      "Converted ecSeg_dataset/test_im/1131.tif to PNG.\n",
      "Converted ecSeg_dataset/test_im/1133.tif to PNG.\n",
      "Converted ecSeg_dataset/test_im/1134.tif to PNG.\n",
      "Converted ecSeg_dataset/test_im/1135.tif to PNG.\n",
      "Converted ecSeg_dataset/test_im/1136.tif to PNG.\n",
      "Converted ecSeg_dataset/test_im/114.tif to PNG.\n",
      "Converted ecSeg_dataset/test_im/1142.tif to PNG.\n",
      "Converted ecSeg_dataset/test_im/1143.tif to PNG.\n",
      "Converted ecSeg_dataset/test_im/1146.tif to PNG.\n",
      "Converted ecSeg_dataset/test_im/1147.tif to PNG.\n",
      "Converted ecSeg_dataset/test_im/1149.tif to PNG.\n",
      "Converted ecSeg_dataset/test_im/115.tif to PNG.\n",
      "Converted ecSeg_dataset/test_im/1150.tif to PNG.\n",
      "Converted ecSeg_dataset/test_im/1151.tif to PNG.\n",
      "Converted ecSeg_dataset/test_im/1153.tif to PNG.\n",
      "Converted ecSeg_dataset/test_im/1154.tif to PNG.\n",
      "Converted ecSeg_dataset/test_im/1158.tif to PNG.\n",
      "Converted ecSeg_dataset/test_im/1159.tif to PNG.\n"
     ]
    }
   ],
   "source": [
    "zip_file_path = 'C:\\\\Users\\\\archi\\\\ecdna-analysis\\\\data\\\\ecSeg_dataset.zip'\n",
    "\n",
    "# Folder inside the ZIP file that contains the images\n",
    "folder_name = 'test_im/'\n",
    "\n",
    "# Image extensions you want to extract\n",
    "image_extensions = ('.jpg', '.jpeg', '.png', '.tif', '.bmp')\n",
    "\n",
    "# Open the ZIP file\n",
    "with zipfile.ZipFile(zip_file_path, 'r') as zip_ref:\n",
    "    all_files = zip_ref.namelist()\n",
    "    \n",
    "    # Filter image files from the specified folder\n",
    "    image_files = [f for f in all_files if f.find(folder_name) != -1]\n",
    "    \n",
    "    for image_file in image_files:\n",
    "        # Extract the file to the extraction folder\n",
    "        zip_ref.extract(image_file, extract_folder)\n",
    "        \n",
    "        # Check if the file is a TIFF image (ends with .tif)\n",
    "        if image_file.lower().endswith('.tif'):\n",
    "            # Construct the local path for the TIFF file and the destination PNG path\n",
    "            extracted_tiff_path = os.path.join(extract_folder, image_file)\n",
    "            png_path = os.path.join(extract_folder, f\"{os.path.splitext(image_file)[0]}.png\")\n",
    "            \n",
    "            # Convert the TIFF to PNG\n",
    "            convert_tiff_to_png(extracted_tiff_path, png_path)\n",
    "            \n",
    "            # Optionally, remove the original TIFF file after conversion\n",
    "            os.remove(extracted_tiff_path)\n",
    "            print(f\"Converted {image_file} to PNG.\")\n",
    "\n",
    "    print(f\"Images extracted and converted to PNG in: {extract_folder}\")\n",
    "    \n",
    "zip_ref.close()"
   ]
  },
  {
   "cell_type": "code",
   "execution_count": 2,
   "metadata": {},
   "outputs": [],
   "source": [
    "# Define processor and model\n",
    "processor = BlipProcessor.from_pretrained(\"Salesforce/blip-image-captioning-large\")\n",
    "model = BlipForConditionalGeneration.from_pretrained(\"Salesforce/blip-image-captioning-large\", low_cpu_mem_usage=True)"
   ]
  },
  {
   "cell_type": "code",
   "execution_count": 38,
   "metadata": {},
   "outputs": [],
   "source": [
    "# Generates caption for images\n",
    "def generate_diagnosis(img, prompt=None):\n",
    "    if isinstance(img, str):\n",
    "        img_input = Image.open(img).convert('RGB')\n",
    "    else:\n",
    "        img_input = img.convert('RGB')\n",
    "    if prompt:\n",
    "        inputs = processor(img_input, prompt, return_tensors=\"pt\")\n",
    "    else:\n",
    "        inputs = processor(img_input, return_tensors=\"pt\")\n",
    "\n",
    "    out = model.generate(**inputs)\n",
    "    diagnosis = processor.decode(out[0], skip_special_tokens=True)\n",
    "\n",
    "    return diagnosis"
   ]
  },
  {
   "cell_type": "code",
   "execution_count": 39,
   "metadata": {},
   "outputs": [
    {
     "name": "stdout",
     "output_type": "stream",
     "text": [
      "Running on local URL:  http://127.0.0.1:7862\n",
      "\n",
      "To create a public link, set `share=True` in `launch()`.\n"
     ]
    },
    {
     "data": {
      "text/html": [
       "<div><iframe src=\"http://127.0.0.1:7862/\" width=\"100%\" height=\"500\" allow=\"autoplay; camera; microphone; clipboard-read; clipboard-write;\" frameborder=\"0\" allowfullscreen></iframe></div>"
      ],
      "text/plain": [
       "<IPython.core.display.HTML object>"
      ]
     },
     "metadata": {},
     "output_type": "display_data"
    },
    {
     "data": {
      "text/plain": []
     },
     "execution_count": 39,
     "metadata": {},
     "output_type": "execute_result"
    },
    {
     "name": "stderr",
     "output_type": "stream",
     "text": [
      "Traceback (most recent call last):\n",
      "  File \"c:\\Users\\archi\\anaconda3\\envs\\asid\\lib\\site-packages\\gradio\\queueing.py\", line 536, in process_events\n",
      "    response = await route_utils.call_process_api(\n",
      "  File \"c:\\Users\\archi\\anaconda3\\envs\\asid\\lib\\site-packages\\gradio\\route_utils.py\", line 322, in call_process_api\n",
      "    output = await app.get_blocks().process_api(\n",
      "  File \"c:\\Users\\archi\\anaconda3\\envs\\asid\\lib\\site-packages\\gradio\\blocks.py\", line 1935, in process_api\n",
      "    result = await self.call_function(\n",
      "  File \"c:\\Users\\archi\\anaconda3\\envs\\asid\\lib\\site-packages\\gradio\\blocks.py\", line 1520, in call_function\n",
      "    prediction = await anyio.to_thread.run_sync(  # type: ignore\n",
      "  File \"c:\\Users\\archi\\anaconda3\\envs\\asid\\lib\\site-packages\\anyio\\to_thread.py\", line 56, in run_sync\n",
      "    return await get_async_backend().run_sync_in_worker_thread(\n",
      "  File \"c:\\Users\\archi\\anaconda3\\envs\\asid\\lib\\site-packages\\anyio\\_backends\\_asyncio.py\", line 2364, in run_sync_in_worker_thread\n",
      "    return await future\n",
      "  File \"c:\\Users\\archi\\anaconda3\\envs\\asid\\lib\\site-packages\\anyio\\_backends\\_asyncio.py\", line 864, in run\n",
      "    result = context.run(func, *args)\n",
      "  File \"c:\\Users\\archi\\anaconda3\\envs\\asid\\lib\\site-packages\\gradio\\utils.py\", line 826, in wrapper\n",
      "    response = f(*args, **kwargs)\n",
      "  File \"C:\\Users\\archi\\AppData\\Local\\Temp\\ipykernel_19348\\2998734550.py\", line 6, in generate_diagnosis\n",
      "    img_input = Image.fromarray(img).convert('RGB')\n",
      "  File \"c:\\Users\\archi\\anaconda3\\envs\\asid\\lib\\site-packages\\PIL\\Image.py\", line 3304, in fromarray\n",
      "    return frombuffer(mode, size, obj, \"raw\", rawmode, 0, 1)\n",
      "  File \"c:\\Users\\archi\\anaconda3\\envs\\asid\\lib\\site-packages\\PIL\\Image.py\", line 3206, in frombuffer\n",
      "    return frombytes(mode, size, data, decoder_name, args)\n",
      "  File \"c:\\Users\\archi\\anaconda3\\envs\\asid\\lib\\site-packages\\PIL\\Image.py\", line 3147, in frombytes\n",
      "    im.frombytes(data, decoder_name, decoder_args)\n",
      "  File \"c:\\Users\\archi\\anaconda3\\envs\\asid\\lib\\site-packages\\PIL\\Image.py\", line 876, in frombytes\n",
      "    s = d.decode(data)\n",
      "TypeError: a bytes-like object is required, not 'Image'\n",
      "Traceback (most recent call last):\n",
      "  File \"c:\\Users\\archi\\anaconda3\\envs\\asid\\lib\\site-packages\\gradio\\queueing.py\", line 536, in process_events\n",
      "    response = await route_utils.call_process_api(\n",
      "  File \"c:\\Users\\archi\\anaconda3\\envs\\asid\\lib\\site-packages\\gradio\\route_utils.py\", line 322, in call_process_api\n",
      "    output = await app.get_blocks().process_api(\n",
      "  File \"c:\\Users\\archi\\anaconda3\\envs\\asid\\lib\\site-packages\\gradio\\blocks.py\", line 1935, in process_api\n",
      "    result = await self.call_function(\n",
      "  File \"c:\\Users\\archi\\anaconda3\\envs\\asid\\lib\\site-packages\\gradio\\blocks.py\", line 1520, in call_function\n",
      "    prediction = await anyio.to_thread.run_sync(  # type: ignore\n",
      "  File \"c:\\Users\\archi\\anaconda3\\envs\\asid\\lib\\site-packages\\anyio\\to_thread.py\", line 56, in run_sync\n",
      "    return await get_async_backend().run_sync_in_worker_thread(\n",
      "  File \"c:\\Users\\archi\\anaconda3\\envs\\asid\\lib\\site-packages\\anyio\\_backends\\_asyncio.py\", line 2364, in run_sync_in_worker_thread\n",
      "    return await future\n",
      "  File \"c:\\Users\\archi\\anaconda3\\envs\\asid\\lib\\site-packages\\anyio\\_backends\\_asyncio.py\", line 864, in run\n",
      "    result = context.run(func, *args)\n",
      "  File \"c:\\Users\\archi\\anaconda3\\envs\\asid\\lib\\site-packages\\gradio\\utils.py\", line 826, in wrapper\n",
      "    response = f(*args, **kwargs)\n",
      "  File \"C:\\Users\\archi\\AppData\\Local\\Temp\\ipykernel_19348\\2998734550.py\", line 6, in generate_diagnosis\n",
      "    img_input = Image.fromarray(img).convert('RGB')\n",
      "  File \"c:\\Users\\archi\\anaconda3\\envs\\asid\\lib\\site-packages\\PIL\\Image.py\", line 3304, in fromarray\n",
      "    return frombuffer(mode, size, obj, \"raw\", rawmode, 0, 1)\n",
      "  File \"c:\\Users\\archi\\anaconda3\\envs\\asid\\lib\\site-packages\\PIL\\Image.py\", line 3206, in frombuffer\n",
      "    return frombytes(mode, size, data, decoder_name, args)\n",
      "  File \"c:\\Users\\archi\\anaconda3\\envs\\asid\\lib\\site-packages\\PIL\\Image.py\", line 3147, in frombytes\n",
      "    im.frombytes(data, decoder_name, decoder_args)\n",
      "  File \"c:\\Users\\archi\\anaconda3\\envs\\asid\\lib\\site-packages\\PIL\\Image.py\", line 876, in frombytes\n",
      "    s = d.decode(data)\n",
      "TypeError: a bytes-like object is required, not 'Image'\n"
     ]
    }
   ],
   "source": [
    "demo = gr.Interface(\n",
    "    fn=generate_diagnosis,\n",
    "    inputs=[\n",
    "        gr.Image(type='pil', label='Image'),\n",
    "        gr.Textbox(placeholder='Enter a prompt',  label='Caption')  # Image input\n",
    "    ],\n",
    "    outputs=\"text\",\n",
    "    title = \"ecDNA Analysis\",\n",
    "    description = \"Analyze your metaphase spread images using this tool\"  # Display the generated caption\n",
    ")\n",
    "\n",
    "demo.launch()\n"
   ]
  },
  {
   "cell_type": "code",
   "execution_count": null,
   "metadata": {},
   "outputs": [],
   "source": []
  },
  {
   "cell_type": "code",
   "execution_count": null,
   "metadata": {},
   "outputs": [],
   "source": []
  }
 ],
 "metadata": {
  "kernelspec": {
   "display_name": "Python 3 (ipykernel)",
   "language": "python",
   "name": "python3"
  },
  "language_info": {
   "codemirror_mode": {
    "name": "ipython",
    "version": 3
   },
   "file_extension": ".py",
   "mimetype": "text/x-python",
   "name": "python",
   "nbconvert_exporter": "python",
   "pygments_lexer": "ipython3",
   "version": "3.11.9"
  }
 },
 "nbformat": 4,
 "nbformat_minor": 4
}
