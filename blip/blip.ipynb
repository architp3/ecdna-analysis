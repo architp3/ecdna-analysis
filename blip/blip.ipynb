{
 "cells": [
  {
   "cell_type": "code",
   "execution_count": 24,
   "metadata": {},
   "outputs": [],
   "source": [
    "from PIL import Image\n",
    "import requests\n",
    "from transformers import BlipProcessor, BlipForConditionalGeneration \n",
    "import gradio as gr\n",
    "import zipfile\n",
    "import os"
   ]
  },
  {
   "cell_type": "code",
   "execution_count": 25,
   "metadata": {},
   "outputs": [
    {
     "data": {
      "text/plain": [
       "'C:\\\\Users\\\\archi\\\\ecdna-analysis\\\\data\\\\ecSeg_dataset.zip'"
      ]
     },
     "execution_count": 25,
     "metadata": {},
     "output_type": "execute_result"
    }
   ],
   "source": [
    "# Zipfile path containing data\n",
    "zipfile_path = os.path.expanduser(\"~\") + '\\\\ecdna-analysis\\\\data\\\\ecSeg_dataset.zip'\n",
    "zipfile_path"
   ]
  },
  {
   "cell_type": "code",
   "execution_count": 27,
   "metadata": {},
   "outputs": [
    {
     "name": "stdout",
     "output_type": "stream",
     "text": [
      "Images extracted to: test_im_images\n"
     ]
    }
   ],
   "source": [
    "zip_file_path = 'C:\\\\Users\\\\archi\\\\ecdna-analysis\\\\data\\\\ecSeg_dataset.zip'\n",
    "\n",
    "# Folder inside the ZIP file that contains the images\n",
    "folder_name = 'test_im/'\n",
    "\n",
    "# Image extensions you want to extract\n",
    "image_extensions = ('.jpg', '.jpeg', '.png', '.tif', '.bmp')\n",
    "\n",
    "# Open the ZIP file\n",
    "with zipfile.ZipFile(zip_file_path, 'r') as zip_ref:\n",
    "    all_files = zip_ref.namelist()\n",
    "    image_files = [f for f in all_files if f.find(folder_name) != -1]\n",
    "    extract_folder = 'test_im_images'\n",
    "    os.makedirs(extract_folder, exist_ok=True)\n",
    "    for image_file in image_files:\n",
    "        zip_ref.extract(image_file, extract_folder)\n",
    "\n",
    "    print(f\"Images extracted to: {extract_folder}\")\n",
    "    \n",
    "zip_ref.close()"
   ]
  },
  {
   "cell_type": "code",
   "execution_count": 2,
   "metadata": {},
   "outputs": [],
   "source": [
    "# Define processor and model\n",
    "processor = BlipProcessor.from_pretrained(\"Salesforce/blip-image-captioning-large\")\n",
    "model = BlipForConditionalGeneration.from_pretrained(\"Salesforce/blip-image-captioning-large\", low_cpu_mem_usage=True)"
   ]
  },
  {
   "cell_type": "code",
   "execution_count": 3,
   "metadata": {},
   "outputs": [],
   "source": [
    "# Generates caption for images\n",
    "def generate_diagnosis(img, prompt=None):\n",
    "    img_input = Image.fromarray(img).convert('RGB')\n",
    "    if prompt:\n",
    "        inputs = processor(img_input, prompt, return_tensors=\"pt\")\n",
    "    else:\n",
    "        inputs = processor(img_input, return_tensors=\"pt\")\n",
    "\n",
    "    out = model.generate(**inputs)\n",
    "    diagnosis = processor.decode(out[0], skip_special_tokens=True)\n",
    "\n",
    "    return diagnosis"
   ]
  },
  {
   "cell_type": "code",
   "execution_count": 4,
   "metadata": {},
   "outputs": [
    {
     "name": "stdout",
     "output_type": "stream",
     "text": [
      "Running on local URL:  http://127.0.0.1:7860\n",
      "\n",
      "To create a public link, set `share=True` in `launch()`.\n"
     ]
    },
    {
     "data": {
      "text/html": [
       "<div><iframe src=\"http://127.0.0.1:7860/\" width=\"100%\" height=\"500\" allow=\"autoplay; camera; microphone; clipboard-read; clipboard-write;\" frameborder=\"0\" allowfullscreen></iframe></div>"
      ],
      "text/plain": [
       "<IPython.core.display.HTML object>"
      ]
     },
     "metadata": {},
     "output_type": "display_data"
    },
    {
     "data": {
      "text/plain": []
     },
     "execution_count": 4,
     "metadata": {},
     "output_type": "execute_result"
    },
    {
     "name": "stderr",
     "output_type": "stream",
     "text": [
      "c:\\Users\\archi\\anaconda3\\envs\\asid\\lib\\site-packages\\transformers\\generation\\utils.py:1375: UserWarning: Using the model-agnostic default `max_length` (=20) to control the generation length. We recommend setting `max_new_tokens` to control the maximum length of the generation.\n",
      "  warnings.warn(\n",
      "c:\\Users\\archi\\anaconda3\\envs\\asid\\lib\\site-packages\\transformers\\generation\\utils.py:1375: UserWarning: Using the model-agnostic default `max_length` (=20) to control the generation length. We recommend setting `max_new_tokens` to control the maximum length of the generation.\n",
      "  warnings.warn(\n",
      "c:\\Users\\archi\\anaconda3\\envs\\asid\\lib\\site-packages\\transformers\\generation\\utils.py:1375: UserWarning: Using the model-agnostic default `max_length` (=20) to control the generation length. We recommend setting `max_new_tokens` to control the maximum length of the generation.\n",
      "  warnings.warn(\n",
      "c:\\Users\\archi\\anaconda3\\envs\\asid\\lib\\site-packages\\transformers\\generation\\utils.py:1375: UserWarning: Using the model-agnostic default `max_length` (=20) to control the generation length. We recommend setting `max_new_tokens` to control the maximum length of the generation.\n",
      "  warnings.warn(\n",
      "Traceback (most recent call last):\n",
      "  File \"c:\\Users\\archi\\anaconda3\\envs\\asid\\lib\\site-packages\\gradio\\queueing.py\", line 536, in process_events\n",
      "    response = await route_utils.call_process_api(\n",
      "  File \"c:\\Users\\archi\\anaconda3\\envs\\asid\\lib\\site-packages\\gradio\\route_utils.py\", line 322, in call_process_api\n",
      "    output = await app.get_blocks().process_api(\n",
      "  File \"c:\\Users\\archi\\anaconda3\\envs\\asid\\lib\\site-packages\\gradio\\blocks.py\", line 1935, in process_api\n",
      "    result = await self.call_function(\n",
      "  File \"c:\\Users\\archi\\anaconda3\\envs\\asid\\lib\\site-packages\\gradio\\blocks.py\", line 1520, in call_function\n",
      "    prediction = await anyio.to_thread.run_sync(  # type: ignore\n",
      "  File \"c:\\Users\\archi\\anaconda3\\envs\\asid\\lib\\site-packages\\anyio\\to_thread.py\", line 56, in run_sync\n",
      "    return await get_async_backend().run_sync_in_worker_thread(\n",
      "  File \"c:\\Users\\archi\\anaconda3\\envs\\asid\\lib\\site-packages\\anyio\\_backends\\_asyncio.py\", line 2364, in run_sync_in_worker_thread\n",
      "    return await future\n",
      "  File \"c:\\Users\\archi\\anaconda3\\envs\\asid\\lib\\site-packages\\anyio\\_backends\\_asyncio.py\", line 864, in run\n",
      "    result = context.run(func, *args)\n",
      "  File \"c:\\Users\\archi\\anaconda3\\envs\\asid\\lib\\site-packages\\gradio\\utils.py\", line 826, in wrapper\n",
      "    response = f(*args, **kwargs)\n",
      "  File \"C:\\Users\\archi\\AppData\\Local\\Temp\\ipykernel_18132\\3118958839.py\", line 3, in generate_diagnosis\n",
      "    img_input = Image.fromarray(img).convert('RGB')\n",
      "  File \"c:\\Users\\archi\\anaconda3\\envs\\asid\\lib\\site-packages\\PIL\\Image.py\", line 3266, in fromarray\n",
      "    arr = obj.__array_interface__\n",
      "AttributeError: 'NoneType' object has no attribute '__array_interface__'\n",
      "c:\\Users\\archi\\anaconda3\\envs\\asid\\lib\\site-packages\\transformers\\generation\\utils.py:1375: UserWarning: Using the model-agnostic default `max_length` (=20) to control the generation length. We recommend setting `max_new_tokens` to control the maximum length of the generation.\n",
      "  warnings.warn(\n",
      "c:\\Users\\archi\\anaconda3\\envs\\asid\\lib\\site-packages\\transformers\\generation\\utils.py:1375: UserWarning: Using the model-agnostic default `max_length` (=20) to control the generation length. We recommend setting `max_new_tokens` to control the maximum length of the generation.\n",
      "  warnings.warn(\n"
     ]
    }
   ],
   "source": [
    "demo = gr.Interface(\n",
    "    fn=generate_diagnosis,\n",
    "    inputs=[\n",
    "        gr.Image(label='Image'),\n",
    "        gr.Textbox(placeholder='Enter a prompt',  label='Caption')  # Image input\n",
    "    ],\n",
    "    outputs=\"text\",\n",
    "    title = \"ecDNA Analysis\",\n",
    "    description = \"Analyze your metaphase spread images using this tool\"  # Display the generated caption\n",
    ")\n",
    "\n",
    "demo.launch()\n"
   ]
  },
  {
   "cell_type": "code",
   "execution_count": null,
   "metadata": {},
   "outputs": [],
   "source": []
  },
  {
   "cell_type": "code",
   "execution_count": null,
   "metadata": {},
   "outputs": [],
   "source": []
  }
 ],
 "metadata": {
  "kernelspec": {
   "display_name": "asid",
   "language": "python",
   "name": "python3"
  },
  "language_info": {
   "codemirror_mode": {
    "name": "ipython",
    "version": 3
   },
   "file_extension": ".py",
   "mimetype": "text/x-python",
   "name": "python",
   "nbconvert_exporter": "python",
   "pygments_lexer": "ipython3",
   "version": "3.8.20"
  }
 },
 "nbformat": 4,
 "nbformat_minor": 2
}
