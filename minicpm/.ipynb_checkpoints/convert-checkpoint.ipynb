{
 "cells": [
  {
   "cell_type": "code",
   "execution_count": 1,
   "id": "169a2067-2484-4e27-8f8d-ee1d3bc014fa",
   "metadata": {},
   "outputs": [],
   "source": [
    "import os\n",
    "from PIL import Image"
   ]
  },
  {
   "cell_type": "code",
   "execution_count": 2,
   "id": "0e282eac-4cd2-4827-82d6-18def0c25aee",
   "metadata": {},
   "outputs": [],
   "source": [
    "def tif_to_png(src, out):\n",
    "    if not os.path.exists(out):\n",
    "        os.makedirs(out)\n",
    "\n",
    "    for file_name in os.listdir(src):\n",
    "        if file_name.endswith('.tif') or file_name.endswith('.tiff'):\n",
    "            file_path = os.path.join(src, file_name)\n",
    "            img = Image.open(file_path)\n",
    "            output_file_name = os.path.splitext(file_name)[0] + '.png'\n",
    "            output_file_path = os.path.join(out, output_file_name)\n",
    "            img.save(out, 'PNG')\n",
    "            print(f\"Converted {file_name} to {output_file_name}\")"
   ]
  },
  {
   "cell_type": "code",
   "execution_count": null,
   "id": "aee3dca2-fbbf-4baa-8811-aa940c3ed208",
   "metadata": {},
   "outputs": [],
   "source": [
    "src = '../../samples'\n",
    "out = '../../imgs'\n",
    "convert_tiff_to_png(source_dir, output_dir)\n"
   ]
  }
 ],
 "metadata": {
  "kernelspec": {
   "display_name": "Python 3 (ipykernel)",
   "language": "python",
   "name": "python3"
  },
  "language_info": {
   "codemirror_mode": {
    "name": "ipython",
    "version": 3
   },
   "file_extension": ".py",
   "mimetype": "text/x-python",
   "name": "python",
   "nbconvert_exporter": "python",
   "pygments_lexer": "ipython3",
   "version": "3.11.9"
  }
 },
 "nbformat": 4,
 "nbformat_minor": 5
}
