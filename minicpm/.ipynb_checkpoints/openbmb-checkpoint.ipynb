{
 "cells": [
  {
   "cell_type": "code",
   "execution_count": 1,
   "id": "1c32f8f6-0b91-4b6c-83a5-40f59a936959",
   "metadata": {
    "scrolled": true
   },
   "outputs": [],
   "source": [
    "import torch\n",
    "from PIL import Image\n",
    "from transformers import AutoModel, AutoTokenizer\n",
    "from torchvision import transforms"
   ]
  },
  {
   "cell_type": "code",
   "execution_count": 2,
   "id": "0f29b11c-ed34-4e91-8813-40e4c6375c49",
   "metadata": {},
   "outputs": [
    {
     "name": "stdout",
     "output_type": "stream",
     "text": [
      "CUDA available: True\n"
     ]
    }
   ],
   "source": [
    "cuda_available = torch.cuda.is_available()\n",
    "print(\"CUDA available:\", cuda_available)"
   ]
  },
  {
   "cell_type": "code",
   "execution_count": 3,
   "id": "49c2ad43-6250-44a6-96e8-75bfc99be187",
   "metadata": {},
   "outputs": [
    {
     "data": {
      "application/vnd.jupyter.widget-view+json": {
       "model_id": "3a71c4aed29043e191cc5b403e04c12c",
       "version_major": 2,
       "version_minor": 0
      },
      "text/plain": [
       "Loading checkpoint shards:   0%|          | 0/2 [00:00<?, ?it/s]"
      ]
     },
     "metadata": {},
     "output_type": "display_data"
    }
   ],
   "source": [
    "model = AutoModel.from_pretrained('openbmb/MiniCPM-V-2', trust_remote_code=True, torch_dtype=torch.bfloat16)\n",
    "model = model.to(device='cuda', dtype=torch.bfloat16)"
   ]
  },
  {
   "cell_type": "code",
   "execution_count": 4,
   "id": "9837f5f4-80a6-49ca-b444-aedfe588d03f",
   "metadata": {},
   "outputs": [
    {
     "name": "stderr",
     "output_type": "stream",
     "text": [
      "The `seen_tokens` attribute is deprecated and will be removed in v4.41. Use the `cache_position` model input instead.\n"
     ]
    },
    {
     "name": "stdout",
     "output_type": "stream",
     "text": [
      "The image you've shared appears to be a close-up of cells stained with blue and red fluorescent dyes. The background is dark, emphasizing the brightly colored structures within each cell. Each individual structure in this cluster resembles an organelle or cellular component that might typically appear as such under fluorescence microscopy due to their unique coloration patterns. \n",
      "Please note that without additional context like labels on different parts of these objects it becomes challenging for me to provide more specific details about what exactly they are representing based solely off visual information provided here\n"
     ]
    }
   ],
   "source": [
    "tokenizer = AutoTokenizer.from_pretrained('openbmb/MiniCPM-V-2', trust_remote_code=True)\n",
    "model.eval()\n",
    "\n",
    "image = Image.open('../../test3.png').convert('RGB')\n",
    "\n",
    "question = 'Identify the image.'\n",
    "msgs = [{'role': 'user', 'content': question}]\n",
    "\n",
    "res, context, _ = model.chat(\n",
    "    image=image,\n",
    "    msgs=msgs,\n",
    "    context=None,\n",
    "    tokenizer=tokenizer,\n",
    "    sampling=True,\n",
    "    temperature=0.7\n",
    ")\n",
    "print(res)"
   ]
  },
  {
   "cell_type": "code",
   "execution_count": 8,
   "id": "57ea7bad-dbd6-4f24-a35b-e3fbf47ca3d2",
   "metadata": {},
   "outputs": [
    {
     "name": "stderr",
     "output_type": "stream",
     "text": [
      "The `seen_tokens` attribute is deprecated and will be removed in v4.41. Use the `cache_position` model input instead.\n"
     ]
    },
    {
     "name": "stdout",
     "output_type": "stream",
     "text": [
      "The image depicts a microscopic view of extrachromosomal DNA. The cells in the picture are stained with blue, indicating that they contain high concentrations or specific types of proteins and other molecules associated with this type of genetic material.\n"
     ]
    }
   ],
   "source": [
    "tokenizer = AutoTokenizer.from_pretrained('openbmb/MiniCPM-V-2', trust_remote_code=True)\n",
    "model.eval()\n",
    "\n",
    "image = Image.open('../../test.png').convert('RGB')\n",
    "\n",
    "question = 'You are a bioligist who is studying extrachromosomal DNA. Describe the image.'\n",
    "msgs = [{'role': 'user', 'content': question}]\n",
    "\n",
    "res, context, _ = model.chat(\n",
    "    image=image,\n",
    "    msgs=msgs,\n",
    "    context=None,\n",
    "    tokenizer=tokenizer,\n",
    "    sampling=True,\n",
    "    temperature=0.7\n",
    ")\n",
    "print(res)"
   ]
  },
  {
   "cell_type": "code",
   "execution_count": 9,
   "id": "4573532b-487f-4af5-8475-0d1ce9da029f",
   "metadata": {},
   "outputs": [
    {
     "name": "stdout",
     "output_type": "stream",
     "text": [
      "[{'role': 'user', 'content': 'You are a bioligist who is studying extrachromosomal DNA. Describe the image.'}, {'role': 'assistant', 'content': 'The image depicts a microscopic view of extrachromosomal DNA. The cells in the picture are stained with blue, indicating that they contain high concentrations or specific types of proteins and other molecules associated with this type of genetic material.'}]\n"
     ]
    }
   ],
   "source": [
    "print(context)"
   ]
  }
 ],
 "metadata": {
  "kernelspec": {
   "display_name": "Python 3 (ipykernel)",
   "language": "python",
   "name": "python3"
  },
  "language_info": {
   "codemirror_mode": {
    "name": "ipython",
    "version": 3
   },
   "file_extension": ".py",
   "mimetype": "text/x-python",
   "name": "python",
   "nbconvert_exporter": "python",
   "pygments_lexer": "ipython3",
   "version": "3.11.9"
  }
 },
 "nbformat": 4,
 "nbformat_minor": 5
}
