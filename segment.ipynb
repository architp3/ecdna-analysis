{
 "cells": [
  {
   "cell_type": "code",
   "execution_count": 63,
   "metadata": {},
   "outputs": [
    {
     "name": "stderr",
     "output_type": "stream",
     "text": [
      "C:\\Users\\archi\\AppData\\Local\\Temp\\ipykernel_2524\\124939394.py:11: DeprecationWarning: Please use `label` from the `scipy.ndimage` namespace, the `scipy.ndimage.measurements` namespace is deprecated.\n",
      "  from scipy.ndimage.measurements import label\n"
     ]
    }
   ],
   "source": [
    "from PIL import Image\n",
    "import gradio as gr\n",
    "import zipfile\n",
    "import os\n",
    "import numpy as np\n",
    "import random\n",
    "import shutil\n",
    "import pandas as pd\n",
    "import cv2\n",
    "import sys\n",
    "from scipy.ndimage.measurements import label"
   ]
  },
  {
   "cell_type": "code",
   "execution_count": 64,
   "metadata": {},
   "outputs": [],
   "source": [
    "HOME = os.path.expanduser('~') + '\\\\ecdna-analysis'"
   ]
  },
  {
   "cell_type": "code",
   "execution_count": 65,
   "metadata": {},
   "outputs": [],
   "source": [
    "def find_counts(seg_I):\n",
    "    \"\"\"\n",
    "        This function finds the number of nuclei, chromosomes, and ecDNA\n",
    "        in segmented images.\n",
    "\n",
    "        Input:\n",
    "            seg_I: segmented image\n",
    "        \n",
    "        Output:\n",
    "            in order: number of nuclei, chromosomes, and ecDNA\n",
    "    \"\"\"\n",
    "    nuclei = (seg_I==1)\n",
    "    chromosome = (seg_I==2)\n",
    "    ecDNA = (seg_I==3)\n",
    "\n",
    "    # Way we want to find connected components\n",
    "    structure = np.ones((3, 3), dtype=int)\n",
    "\n",
    "    # All the counts\n",
    "    _, num_nuclei = label(nuclei, structure)\n",
    "    _, num_chromosomes = label(chromosome, structure)\n",
    "    _, num_ecDNA = label(ecDNA, structure)\n",
    "\n",
    "    return [num_nuclei, num_chromosomes, num_ecDNA]\n"
   ]
  },
  {
   "cell_type": "code",
   "execution_count": null,
   "metadata": {},
   "outputs": [],
   "source": [
    "import os\n",
    "import numpy as np\n",
    "\n",
    "HOME = os.path.expanduser('~') + '\\\\ecdna-analysis\\\\'\n",
    "\n",
    "test_bound = 2343\n",
    "test_path = 'test_im_data\\\\labels'\n",
    "train_bound = 9660\n",
    "train_path = 'train_im_data\\\\labels'\n",
    "\n",
    "with open(HOME + 'test_images_counts.csv', 'w') as f:\n",
    "    f.write(',image,num_nuclei,num_chromosomes,num_ecDNA\\n')\n",
    "    \n",
    "    for image in os.listdir(HOME + test_path):\n",
    "        if image.endswith('.npy'):\n",
    "            seg_I = np.load(os.path.join(HOME + test_path, image))\n",
    "            num_nuclei, num_chromosomes, num_ecDNA = find_counts(seg_I)\n",
    "            f.write(f',{image[:-4]}.tif,{num_nuclei},{num_chromosomes},{num_ecDNA}\\n')\n",
    "\n",
    "with open(HOME + 'train_images_counts.csv', 'w') as f:\n",
    "    f.write(',image,num_nuclei,num_chromosomes,num_ecDNA\\n')\n",
    "    for image in os.listdir(HOME + train_path):  # iterate over files, not range\n",
    "        if image.endswith('.npy'):\n",
    "            seg_I = np.load(os.path.join(HOME + train_path, image))\n",
    "            num_nuclei, num_chromosomes, num_ecDNA = find_counts(seg_I)\n",
    "            f.write(f',{image[:-4]}.tif,{num_nuclei},{num_chromosomes},{num_ecDNA}\\n')"
   ]
  }
 ],
 "metadata": {
  "kernelspec": {
   "display_name": "asid",
   "language": "python",
   "name": "python3"
  },
  "language_info": {
   "codemirror_mode": {
    "name": "ipython",
    "version": 3
   },
   "file_extension": ".py",
   "mimetype": "text/x-python",
   "name": "python",
   "nbconvert_exporter": "python",
   "pygments_lexer": "ipython3",
   "version": "3.8.20"
  }
 },
 "nbformat": 4,
 "nbformat_minor": 2
}
